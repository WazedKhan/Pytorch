{
  "nbformat": 4,
  "nbformat_minor": 0,
  "metadata": {
    "colab": {
      "private_outputs": true,
      "provenance": [],
      "authorship_tag": "ABX9TyO5UmfvhQ6dPmRvr3GCA4DL",
      "include_colab_link": true
    },
    "kernelspec": {
      "name": "python3",
      "display_name": "Python 3"
    },
    "language_info": {
      "name": "python"
    }
  },
  "cells": [
    {
      "cell_type": "markdown",
      "metadata": {
        "id": "view-in-github",
        "colab_type": "text"
      },
      "source": [
        "<a href=\"https://colab.research.google.com/github/WazedKhan/Pytorch/blob/main/Tensor.ipynb\" target=\"_parent\"><img src=\"https://colab.research.google.com/assets/colab-badge.svg\" alt=\"Open In Colab\"/></a>"
      ]
    },
    {
      "cell_type": "markdown",
      "source": [
        "### Initializing and basic operations\n",
        "_A tensor can be constructed from a Python list or sequence using the `torch.tensor()`_:"
      ],
      "metadata": {
        "id": "4eiFZnqaU_qk"
      }
    },
    {
      "cell_type": "code",
      "execution_count": null,
      "metadata": {
        "id": "n7vld_HrUb7f"
      },
      "outputs": [],
      "source": [
        "# import tensor\n",
        "import torch\n",
        "import numpy as np"
      ]
    },
    {
      "cell_type": "code",
      "source": [
        "# creating tensor\n",
        "torch.tensor([\n",
        "    [1, -1],\n",
        "    [1, -1]\n",
        "])"
      ],
      "metadata": {
        "id": "cQtpv1rLVTHO"
      },
      "execution_count": null,
      "outputs": []
    },
    {
      "cell_type": "code",
      "source": [
        "# tensor from numpy array\n",
        "torch.tensor(np.array([[1, 2, 4], [4, 5, 6]]))"
      ],
      "metadata": {
        "id": "T_-FmX85WPxM"
      },
      "execution_count": null,
      "outputs": []
    },
    {
      "cell_type": "markdown",
      "source": [
        "A tensor of specific data type can be constructed by passing a `torch.dtype` and/or a `torch.device`(for GPU) to a constructor or tensor creation op:"
      ],
      "metadata": {
        "id": "6fQOF3SUaDG5"
      }
    },
    {
      "cell_type": "code",
      "source": [
        "torch.zeros([2, 4], dtype=torch.int32)"
      ],
      "metadata": {
        "id": "7AXn4oTPXul9"
      },
      "execution_count": null,
      "outputs": []
    },
    {
      "cell_type": "markdown",
      "source": [
        "### The contents of a tensor can be accessed and modified using Python’s indexing and slicing notation:"
      ],
      "metadata": {
        "id": "rlRMX7jhbNDg"
      }
    },
    {
      "cell_type": "code",
      "source": [
        "x = torch.tensor([[1, 2, 3], [4, 5, 6]])"
      ],
      "metadata": {
        "id": "uzdwG-kaaV3l"
      },
      "execution_count": null,
      "outputs": []
    },
    {
      "cell_type": "markdown",
      "source": [
        "The contents of a tensor can be accessed and modified using Python’s indexing and slicing notation:"
      ],
      "metadata": {
        "id": "KpTJ5ZLpkAaT"
      }
    },
    {
      "cell_type": "code",
      "source": [
        "x[1][2]"
      ],
      "metadata": {
        "id": "4yxptc6_bWbF"
      },
      "execution_count": null,
      "outputs": []
    },
    {
      "cell_type": "markdown",
      "source": [
        "To get Python number we can use `.item()` and it's works for single value"
      ],
      "metadata": {
        "id": "kiaB5IXakJGK"
      }
    },
    {
      "cell_type": "code",
      "source": [
        "x = torch.tensor([[1]])\n",
        "x.item()"
      ],
      "metadata": {
        "id": "wFPQslvgkEUG"
      },
      "execution_count": null,
      "outputs": []
    },
    {
      "cell_type": "markdown",
      "source": [
        "A tensor can be created with `requires_grad=True` so that torch.autograd records operations on them for automatic differentiation."
      ],
      "metadata": {
        "id": "THzxHwVblld1"
      }
    },
    {
      "cell_type": "code",
      "source": [
        "x = torch.tensor([[1., -1.], [1., -1.]], requires_grad=True)\n",
        "out = x.pow(2).sum()\n",
        "out"
      ],
      "metadata": {
        "id": "GAqPMe4AkXel"
      },
      "execution_count": null,
      "outputs": []
    },
    {
      "cell_type": "code",
      "source": [
        "out.backward()\n",
        "x.grad\n"
      ],
      "metadata": {
        "id": "38K9J9UEl2bP"
      },
      "execution_count": null,
      "outputs": []
    },
    {
      "cell_type": "code",
      "source": [],
      "metadata": {
        "id": "y3vCXNE3mHN1"
      },
      "execution_count": null,
      "outputs": []
    }
  ]
}